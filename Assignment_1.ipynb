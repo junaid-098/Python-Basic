{
  "nbformat": 4,
  "nbformat_minor": 0,
  "metadata": {
    "colab": {
      "provenance": []
    },
    "kernelspec": {
      "name": "python3",
      "display_name": "Python 3"
    },
    "language_info": {
      "name": "python"
    }
  },
  "cells": [
    {
      "cell_type": "markdown",
      "source": [
        "## **Assignment-1 Python basics**"
      ],
      "metadata": {
        "id": "k1vOQpYUpfng"
      }
    },
    {
      "cell_type": "markdown",
      "source": [
        "# **Theory Questions**"
      ],
      "metadata": {
        "id": "gnOJSQ0-M-Ci"
      }
    },
    {
      "cell_type": "markdown",
      "source": [
        "1. What is python and why is it popular?      \n",
        "  -> Python is a programming language which is used to communicate or give command to computer effectively. Python is popular because it is easy to learn, huge libraries and frameworks, community support and versatility.\n",
        "\n",
        "2. What is an interpreter in python?         \n",
        "   -> It is a program in python which reads and execute codes line by line, instead of compiling entire codes at once.\n",
        "\n",
        "3. What are predefined keywords in python?                        \n",
        "   -> These are the reserved words of python which is having meaningful and specific purpose and cannot be used as variables.      \n",
        "   E.g. print, if, else  etc\n",
        "\n",
        "4. Can keywords be used as variable names?    \n",
        "   -> No, keywords cannot be used as variable names.\n",
        "\n",
        "5. What is mutability in python?      \n",
        "   -> It means the content can be changed at any time after creating.\n",
        "\n",
        "6. Why are lists mutable, but tuples are immutable?  \n",
        "   -> List is designed to make changes at anypoint of programming but tuples are designed to be fixed to store data such as password which should not be changed by anyone.\n",
        "\n",
        "7. What is the difference between \"==\" and \"is\" operators in python?    \n",
        "   -> \"==\" is a comparison operator which is used to compare two values and \"is\" is an identity operator which is used to compare the memory location of two object\n",
        "\n",
        "8. What are logical operators in python?  \n",
        "   ->Logical operators combines or compare booleans and provide the final result based on logic.                      \n",
        "   E.g. True and True = True\n",
        "\n",
        "9. What is type casting in python?         \n",
        "   -> It is the process of converting from one data type to another.                   \n",
        "   E.g. int(), str(), bool() etc\n",
        "\n",
        "10. What is the difference between implicit and explicit type casting?   \n",
        "   -> Implicit type casting is automatically done by python itself whereas explicit type casting is done by programmer.\n",
        "  \n",
        "11. What is the purpose of conditional statements in Python?                     \n",
        "   -> To control the flow of program by running specific blocks of code only if certain conditions are met and making decisions based on user input, data values or logic.\n",
        "\n",
        "12. what does the elif statement work?                                           \n",
        "   -> The elif also known as \"else if\" statement is used to check multiple conditions one after another. It allows your program to take different actions depending on which condition is True.\n",
        "\n",
        "13. What is the difference between for and while loops?                  \n",
        "   -> Both are loops but for loop is used when we know how many times to loop and while loop is used when we don't know how many times to loop.\n",
        "\n",
        "14. Describe a scenario where a while loop is more suitable than for loop.\n",
        "   -> A \"for loop\" is usually better when you want a piece of code to run a certain number of times, and a while loop is better when the condition for the code to keep running is more general, such as having a boolean flag that is only set to true when a certain condition is met in the code block."
      ],
      "metadata": {
        "id": "SGrga4ZeNwsI"
      }
    },
    {
      "cell_type": "markdown",
      "source": [
        "# **Practical Questions**"
      ],
      "metadata": {
        "id": "qOrlZVyDyeWn"
      }
    },
    {
      "cell_type": "code",
      "source": [
        "#1. Write a python program to print \"Hello, World!\"\n",
        "print(\"Hello, World!\")"
      ],
      "metadata": {
        "colab": {
          "base_uri": "https://localhost:8080/"
        },
        "id": "8ZI1oj4To6Hv",
        "outputId": "ae6de02b-20eb-466b-9c73-6a91e52c12e1"
      },
      "execution_count": null,
      "outputs": [
        {
          "output_type": "stream",
          "name": "stdout",
          "text": [
            "Hello, World!\n"
          ]
        }
      ]
    },
    {
      "cell_type": "code",
      "source": [
        "#2. Write a python programs that displays your name and age.\n",
        "Name = \"Junaid\"\n",
        "Age = 25"
      ],
      "metadata": {
        "id": "8kEFDdgb0hzF"
      },
      "execution_count": null,
      "outputs": []
    },
    {
      "cell_type": "code",
      "source": [
        "#3. Write code to print all the pre-defined keywords in Python using the keyword library.\n",
        "import keyword\n",
        "print(\"Pre-defined keywords in Python:\")\n",
        "print(keyword.kwlist)\n",
        "help('keywords')"
      ],
      "metadata": {
        "colab": {
          "base_uri": "https://localhost:8080/"
        },
        "id": "ENkJxeRI0yIB",
        "outputId": "660d3f73-ea83-40b8-b561-8f991b307ecc"
      },
      "execution_count": null,
      "outputs": [
        {
          "output_type": "stream",
          "name": "stdout",
          "text": [
            "Pre-defined keywords in Python:\n",
            "['False', 'None', 'True', 'and', 'as', 'assert', 'async', 'await', 'break', 'class', 'continue', 'def', 'del', 'elif', 'else', 'except', 'finally', 'for', 'from', 'global', 'if', 'import', 'in', 'is', 'lambda', 'nonlocal', 'not', 'or', 'pass', 'raise', 'return', 'try', 'while', 'with', 'yield']\n",
            "\n",
            "Here is a list of the Python keywords.  Enter any keyword to get more help.\n",
            "\n",
            "False               class               from                or\n",
            "None                continue            global              pass\n",
            "True                def                 if                  raise\n",
            "and                 del                 import              return\n",
            "as                  elif                in                  try\n",
            "assert              else                is                  while\n",
            "async               except              lambda              with\n",
            "await               finally             nonlocal            yield\n",
            "break               for                 not                 \n",
            "\n"
          ]
        }
      ]
    },
    {
      "cell_type": "code",
      "source": [
        "#4. Write a program that checks if a given word is a Python keyword.\n",
        "import keyword\n",
        "word = input(\"Enter a word to check if it is a Python keyword:\")\n",
        "\n",
        "if keyword.iskeyword(word):\n",
        "  print(f\" yes, '{word}' is a python keyword\")\n",
        "else:\n",
        "  print(f\"No, '{word}' is not a python keyword\")"
      ],
      "metadata": {
        "colab": {
          "base_uri": "https://localhost:8080/"
        },
        "id": "WXSeNdKI3PJM",
        "outputId": "6cdfe12e-d4b7-4d22-f0ac-cd14a53dc287"
      },
      "execution_count": null,
      "outputs": [
        {
          "output_type": "stream",
          "name": "stdout",
          "text": [
            "Enter a word to check if it is a Python keyword:True\n",
            " yes, 'True' is a python keyword\n"
          ]
        }
      ]
    },
    {
      "cell_type": "code",
      "source": [
        "#5.  Create a list and tuple in Python, and demonstrate how attempting to change an element works differently for each.\n",
        "list_cont = [\"Diabetes\", \"CKD\", \"HTN\", \"Heart Failure\"]\n",
        "tuple_cont = (\"Diabetes\", \"CKD\", \"HTN\", \"Heart Failure\")\n",
        "\n",
        "#attempting to change an element in list\n",
        "list_cont[0]"
      ],
      "metadata": {
        "colab": {
          "base_uri": "https://localhost:8080/",
          "height": 36
        },
        "id": "pFnap4V2BjiW",
        "outputId": "541d17ed-14f2-4751-c7cf-a85e0d1a3f36"
      },
      "execution_count": null,
      "outputs": [
        {
          "output_type": "execute_result",
          "data": {
            "text/plain": [
              "'Diabetes'"
            ],
            "application/vnd.google.colaboratory.intrinsic+json": {
              "type": "string"
            }
          },
          "metadata": {},
          "execution_count": 25
        }
      ]
    },
    {
      "cell_type": "code",
      "source": [
        "list_cont[0] = \"Prediabetes\"\n",
        "list_cont"
      ],
      "metadata": {
        "colab": {
          "base_uri": "https://localhost:8080/"
        },
        "id": "1LkhayVbK4Kf",
        "outputId": "545fd8df-64f7-4306-b404-4f81fe18263e"
      },
      "execution_count": null,
      "outputs": [
        {
          "output_type": "execute_result",
          "data": {
            "text/plain": [
              "['Prediabetes', 'CKD', 'HTN', 'Heart Failure']"
            ]
          },
          "metadata": {},
          "execution_count": 27
        }
      ]
    },
    {
      "cell_type": "code",
      "source": [
        "#attempting to change an element in tuples\n",
        "tuple_cont[0]"
      ],
      "metadata": {
        "colab": {
          "base_uri": "https://localhost:8080/",
          "height": 36
        },
        "id": "0jMSrLhcLPCo",
        "outputId": "077e74cd-3792-492a-b451-f487eb6cc9ba"
      },
      "execution_count": null,
      "outputs": [
        {
          "output_type": "execute_result",
          "data": {
            "text/plain": [
              "'Diabetes'"
            ],
            "application/vnd.google.colaboratory.intrinsic+json": {
              "type": "string"
            }
          },
          "metadata": {},
          "execution_count": 28
        }
      ]
    },
    {
      "cell_type": "code",
      "source": [
        "tuple_cont[0] = \"Prediabetes\""
      ],
      "metadata": {
        "colab": {
          "base_uri": "https://localhost:8080/",
          "height": 141
        },
        "id": "wbQeUNVJMF2j",
        "outputId": "c87f009b-effe-4d41-ed90-ab1e480968d2"
      },
      "execution_count": null,
      "outputs": [
        {
          "output_type": "error",
          "ename": "TypeError",
          "evalue": "'tuple' object does not support item assignment",
          "traceback": [
            "\u001b[0;31m---------------------------------------------------------------------------\u001b[0m",
            "\u001b[0;31mTypeError\u001b[0m                                 Traceback (most recent call last)",
            "\u001b[0;32m/tmp/ipython-input-29-906633924.py\u001b[0m in \u001b[0;36m<cell line: 0>\u001b[0;34m()\u001b[0m\n\u001b[0;32m----> 1\u001b[0;31m \u001b[0mtuple_cont\u001b[0m\u001b[0;34m[\u001b[0m\u001b[0;36m0\u001b[0m\u001b[0;34m]\u001b[0m \u001b[0;34m=\u001b[0m \u001b[0;34m\"Prediabetes\"\u001b[0m\u001b[0;34m\u001b[0m\u001b[0;34m\u001b[0m\u001b[0m\n\u001b[0m",
            "\u001b[0;31mTypeError\u001b[0m: 'tuple' object does not support item assignment"
          ]
        }
      ]
    },
    {
      "cell_type": "code",
      "source": [
        "'''Original List is : [\"Diabetes\", \"CKD\", \"HTN\", \"Heart Failure\"]\n",
        "updated list is : ['Prediabetes', 'CKD', 'HTN', 'Heart Failure']\n",
        "Original Tuple is : (\"Diabetes\", \"CKD\", \"HTN\", \"Heart Failure\")\n",
        "Error attempting to modify tuple is that 'tuple' object does not support item assignment'''"
      ],
      "metadata": {
        "id": "DhVAYRK3MMtg"
      },
      "execution_count": null,
      "outputs": []
    },
    {
      "cell_type": "code",
      "source": [
        "#6. Write a function to demonstrate the behavior of mutable and immutable arguments\n",
        "patient_name = \"Alice\"\n",
        "lab_results = [\"X-ray: Clear\", \"ECG: Normal\"]\n",
        "\n",
        "def update_patient_record(name, test_results):\n",
        "  name = \"Updated_\" + name\n",
        "  test_results.append(\"Blood Test: Normal\")\n",
        "  print(\"\\nInside function:\")\n",
        "  print(\"Patient name:\", name)\n",
        "  print(\"Test results:\", test_results)\n",
        "\n",
        "update_patient_record(patient_name, lab_results)\n",
        "\n",
        "print(\"\\nOutside function:\")\n",
        "print(\"Patient name:\", patient_name)\n",
        "print(\"Test results:\", lab_results)"
      ],
      "metadata": {
        "id": "bnP3xt4PM7VQ",
        "colab": {
          "base_uri": "https://localhost:8080/"
        },
        "outputId": "b49d9442-de51-4dca-ba75-ff71300ff34a"
      },
      "execution_count": 22,
      "outputs": [
        {
          "output_type": "stream",
          "name": "stdout",
          "text": [
            "\n",
            "Inside function:\n",
            "Patient name: Updated_Alice\n",
            "Test results: ['X-ray: Clear', 'ECG: Normal', 'Blood Test: Normal']\n",
            "\n",
            "Outside function:\n",
            "Patient name: Alice\n",
            "Test results: ['X-ray: Clear', 'ECG: Normal', 'Blood Test: Normal']\n"
          ]
        }
      ]
    },
    {
      "cell_type": "code",
      "source": [
        "#7. Write a program that performs basic arithmetic operations on two user-input numbers.\n",
        "num1 = int(input(\"enter number 1\"))\n",
        "num2 = int(input(\"enter number 2\"))\n",
        "addition = num1+num2\n",
        "print(f\"The addition of {num1} and {num2} is {addition}\")\n",
        "subtraction = num1+num2\n",
        "print(f\"The subtraction of {num1} and {num2} is {subtraction}\")\n",
        "multiplication = num1*num2\n",
        "print(f\"The multiplication of {num1} and {num2} is {multiplication}\")\n",
        "division = num1/num2\n",
        "print(f\"The division of {num1} and {num2} is {multiplication}\")"
      ],
      "metadata": {
        "colab": {
          "base_uri": "https://localhost:8080/"
        },
        "id": "qjv3xlgrRGYi",
        "outputId": "7f5fc720-45f1-4efc-9f57-cb3de3b3c9c2"
      },
      "execution_count": 23,
      "outputs": [
        {
          "output_type": "stream",
          "name": "stdout",
          "text": [
            "enter number 120\n",
            "enter number 229\n",
            "The addition of 20 and 29 is 49\n",
            "The subtraction of 20 and 29 is 49\n",
            "The multiplication of 20 and 29 is 580\n",
            "The division of 20 and 29 is 580\n"
          ]
        }
      ]
    },
    {
      "cell_type": "code",
      "source": [
        "#8. Write a program to demonstrate the use of logical operators.\n",
        "age = int(input(\"enter your age\"))\n",
        "if age >= 18:\n",
        "  print(\"You are eligible to vote\")\n",
        "else:\n",
        "  print(\"You are not eligible to vote\")\n"
      ],
      "metadata": {
        "colab": {
          "base_uri": "https://localhost:8080/"
        },
        "id": "gjHdNO66URxY",
        "outputId": "74aac20a-0489-4e4f-f237-6a5d930154e9"
      },
      "execution_count": null,
      "outputs": [
        {
          "output_type": "stream",
          "name": "stdout",
          "text": [
            "enter your age18\n",
            "You are eligible to vote\n"
          ]
        }
      ]
    },
    {
      "cell_type": "code",
      "source": [
        "#9. Write a Python program to convert user input from string to integer, float, and boolean types.\n",
        "Name = input(\"What is your Name?:\")\n",
        "\n",
        "#converting input from string to integer\n",
        "try:\n",
        "  int_value = int(\"What is your Name?:\")\n",
        "  print(f'Integer value: {int_value}')\n",
        "except ValueError:\n",
        "  print(\"Cannot convert to integer\")\n",
        "\n",
        "#converting input from string to float\n",
        "try:\n",
        "  float_value = float(\"What is your Name?:\")\n",
        "  print(f'Float value: {float_value}')\n",
        "except ValueError:\n",
        "  print(\"cannot convert to float\")\n",
        "\n",
        "#converting input from string to boolean\n",
        "try:\n",
        "  bool_value = bool(\"What is your name?:\")\n",
        "  print(f'Boolean value:{bool_value}')\n",
        "except ValueError:\n",
        "  print(\"Cannot convert to boolean\")"
      ],
      "metadata": {
        "colab": {
          "base_uri": "https://localhost:8080/"
        },
        "id": "G1JM3QyYXsTD",
        "outputId": "6f2b2cf2-51f9-47e6-9e2c-9c562cc65982"
      },
      "execution_count": null,
      "outputs": [
        {
          "output_type": "stream",
          "name": "stdout",
          "text": [
            "What is your Name?:Junaid\n",
            "Cannot convert to integer\n",
            "cannot convert to float\n",
            "Boolean value:True\n"
          ]
        }
      ]
    },
    {
      "cell_type": "code",
      "source": [
        "#10. Write code to demonstrate type casting with list elements.\n",
        "lab_results = [\"98.6\", \"101.3\", \"error\", \"99\", \"\", \"102\"]\n",
        "cleaned_results = []\n",
        "for value in lab_results:\n",
        "  try:\n",
        "      cleaned_results.append(float(value))\n",
        "  except ValueError:\n",
        "      cleaned_results.append(None)\n",
        "\n",
        "presence_flags = [bool(value) in lab_results]\n",
        "\n",
        "print(\"Raw Lab results      :     \", lab_results )\n",
        "print(\"Converted to floats  :     \", cleaned_results)\n",
        "print(\"Valid Result Present?:     \", presence_flags)"
      ],
      "metadata": {
        "id": "673yEPeXfu9I",
        "colab": {
          "base_uri": "https://localhost:8080/"
        },
        "outputId": "d17b5081-7e7b-4e2a-cf95-aabab47c7a53"
      },
      "execution_count": 20,
      "outputs": [
        {
          "output_type": "stream",
          "name": "stdout",
          "text": [
            "Raw Lab results      :      ['98.6', '101.3', 'error', '99', '', '102']\n",
            "Converted to floats  :      [98.6, 101.3, None, 99.0, None, 102.0]\n",
            "Valid Result Present?:      [False]\n"
          ]
        }
      ]
    },
    {
      "cell_type": "code",
      "source": [
        "#11. Write a program that checks if a number is positive, negative, or zero.\n",
        "num = float(input(\"Enter a number:\"))\n",
        "if num > 0:\n",
        "  print(\"The number is positive\")\n",
        "elif num < 0:\n",
        "  print(\"The number is negative\")\n",
        "else:\n",
        "  print(\"The number is zero\")"
      ],
      "metadata": {
        "colab": {
          "base_uri": "https://localhost:8080/"
        },
        "id": "cpzQH8rDxpL5",
        "outputId": "7b83f8ca-a0cf-4094-bfcd-b71ce0528843"
      },
      "execution_count": null,
      "outputs": [
        {
          "output_type": "stream",
          "name": "stdout",
          "text": [
            "Enter a number:10\n",
            "The number is positive\n"
          ]
        }
      ]
    },
    {
      "cell_type": "code",
      "source": [
        "#12. Write a for loop to print numbers from 1 to 10.\n",
        "for a in range(1,10):\n",
        "  print(a)"
      ],
      "metadata": {
        "colab": {
          "base_uri": "https://localhost:8080/"
        },
        "id": "q_A8qXgmyt2M",
        "outputId": "8fb90d3d-34cc-42f3-c848-f857c7e339fb"
      },
      "execution_count": 1,
      "outputs": [
        {
          "output_type": "stream",
          "name": "stdout",
          "text": [
            "1\n",
            "2\n",
            "3\n",
            "4\n",
            "5\n",
            "6\n",
            "7\n",
            "8\n",
            "9\n"
          ]
        }
      ]
    },
    {
      "cell_type": "code",
      "source": [
        "#13. Write a Python program to find the sum of all even numbers between 1 and 50.\n",
        "Even_number_sum = sum(range(2,51,2))\n",
        "print(\"The sum of all even numbers between 1 and 50 is:\", Even_number_sum)\n"
      ],
      "metadata": {
        "id": "CQzCoRlm0Sep",
        "colab": {
          "base_uri": "https://localhost:8080/"
        },
        "outputId": "6c373b66-0813-4947-e9c7-6197fc13a123"
      },
      "execution_count": 3,
      "outputs": [
        {
          "output_type": "stream",
          "name": "stdout",
          "text": [
            "The sum of all even numbers between 1 and 50 is: 650\n"
          ]
        }
      ]
    },
    {
      "cell_type": "code",
      "source": [
        "#14. Write a program to reverse a string using a while loop.\n",
        "MRN = input(\"Enter your Medical Record number (MRN):\")\n",
        "Reversed_MRN = \"\"\n",
        "index = len(MRN) - 1\n",
        "while index >= 0:\n",
        "  Reversed_MRN += MRN[index]\n",
        "  index -= 1\n",
        "print(\"Reversed MRN for validation:\", Reversed_MRN)"
      ],
      "metadata": {
        "colab": {
          "base_uri": "https://localhost:8080/"
        },
        "id": "A2ystvOsVv3h",
        "outputId": "1cddadc7-ed0b-4258-be53-abb3e1bb83ab"
      },
      "execution_count": 9,
      "outputs": [
        {
          "output_type": "stream",
          "name": "stdout",
          "text": [
            "Enter your Medical Record number (MRN):12478033750673\n",
            "Reversed MRN for validation: 37605733087421\n"
          ]
        }
      ]
    },
    {
      "cell_type": "code",
      "source": [
        "#15. Write a Python program to calculate the factorial of a number provided by the user using a while loop.\n",
        "n = int(input(\"Enter the number of patients to schedule lab test:\"))\n",
        "if n < 0:\n",
        "  print(\"Factorial is not defined for negative value\")\n",
        "else:\n",
        "  factorial = 1\n",
        "  count = n\n",
        "while count > 0:\n",
        "  factorial*= count\n",
        "  count-= 1\n",
        "print(f\"The number of ways to schedule lab tests for {n} patients is: {factorial}\")\n",
        "\n"
      ],
      "metadata": {
        "colab": {
          "base_uri": "https://localhost:8080/"
        },
        "id": "svdP7TLldMq1",
        "outputId": "493ad763-4eee-446a-dd03-cd024fc6d999"
      },
      "execution_count": 12,
      "outputs": [
        {
          "output_type": "stream",
          "name": "stdout",
          "text": [
            "Enter the number of patients to schedule lab test:7\n",
            "The number of ways to schedule lab tests for 7 patients is: 5040\n"
          ]
        }
      ]
    }
  ]
}